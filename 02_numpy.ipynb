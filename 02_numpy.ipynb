{
 "cells": [
  {
   "cell_type": "code",
   "execution_count": 1,
   "metadata": {},
   "outputs": [],
   "source": [
    "import numpy as np\n",
    "from matplotlib import pyplot as plt"
   ]
  },
  {
   "cell_type": "code",
   "execution_count": 2,
   "metadata": {
    "scrolled": false
   },
   "outputs": [
    {
     "name": "stdout",
     "output_type": "stream",
     "text": [
      "[[4394029  320053    5931   46245]\n",
      " [7860119  185853   26679       0]\n",
      " [5845909  576597   39774  170708]\n",
      " ...\n",
      " [ 142463    4231     148     279]\n",
      " [2162240   41032    1384    4737]\n",
      " [ 515000   34727     195    4722]]\n"
     ]
    }
   ],
   "source": [
    "file= \"./US_video_data_numbers.csv\"\n",
    "t1 = np.loadtxt(file,delimiter = \",\",dtype =\"int\")\n",
    "print(t1)"
   ]
  },
  {
   "cell_type": "code",
   "execution_count": 3,
   "metadata": {
    "scrolled": true
   },
   "outputs": [
    {
     "name": "stdout",
     "output_type": "stream",
     "text": [
      "[5845909  576597   39774  170708]\n"
     ]
    }
   ],
   "source": [
    "#取行\n",
    "print(t1[2])#读取第二行"
   ]
  },
  {
   "cell_type": "code",
   "execution_count": 64,
   "metadata": {
    "scrolled": true
   },
   "outputs": [
    {
     "name": "stdout",
     "output_type": "stream",
     "text": [
      "[[5845909  576597   39774  170708]\n",
      " [2642103   24975    4542   12829]\n",
      " [1168130   96666     568    6666]\n",
      " ...\n",
      " [ 142463    4231     148     279]\n",
      " [2162240   41032    1384    4737]\n",
      " [ 515000   34727     195    4722]]\n"
     ]
    }
   ],
   "source": [
    "#连续行\n",
    "print(t1[2:])"
   ]
  },
  {
   "cell_type": "code",
   "execution_count": 65,
   "metadata": {
    "scrolled": false
   },
   "outputs": [
    {
     "name": "stdout",
     "output_type": "stream",
     "text": [
      "[[5845909  576597   39774  170708]\n",
      " [1338533   69687     678    5643]\n",
      " [ 859289   34485     726    1914]]\n"
     ]
    }
   ],
   "source": [
    "#取不连续\n",
    "print(t1[[2,8,10]])"
   ]
  },
  {
   "cell_type": "code",
   "execution_count": 66,
   "metadata": {
    "scrolled": true
   },
   "outputs": [
    {
     "name": "stdout",
     "output_type": "stream",
     "text": [
      "[4394029 7860119 5845909 ...  142463 2162240  515000]\n"
     ]
    }
   ],
   "source": [
    "#取列，第一列\n",
    "print(t1[:,0])\n"
   ]
  },
  {
   "cell_type": "code",
   "execution_count": 67,
   "metadata": {
    "scrolled": true
   },
   "outputs": [
    {
     "name": "stdout",
     "output_type": "stream",
     "text": [
      "[[  5931  46245]\n",
      " [ 26679      0]\n",
      " [ 39774 170708]\n",
      " ...\n",
      " [   148    279]\n",
      " [  1384   4737]\n",
      " [   195   4722]]\n"
     ]
    }
   ],
   "source": [
    "#连续多列\n",
    "print(t1[:,2:])"
   ]
  },
  {
   "cell_type": "code",
   "execution_count": 68,
   "metadata": {
    "scrolled": true
   },
   "outputs": [
    {
     "name": "stdout",
     "output_type": "stream",
     "text": [
      "[[4394029    5931]\n",
      " [7860119   26679]\n",
      " [5845909   39774]\n",
      " ...\n",
      " [ 142463     148]\n",
      " [2162240    1384]\n",
      " [ 515000     195]]\n"
     ]
    }
   ],
   "source": [
    "#取不连续多列\n",
    "print(t1[:,[0,2]])"
   ]
  },
  {
   "cell_type": "code",
   "execution_count": 69,
   "metadata": {
    "scrolled": true
   },
   "outputs": [
    {
     "name": "stdout",
     "output_type": "stream",
     "text": [
      "170708\n",
      "<class 'numpy.int32'>\n"
     ]
    }
   ],
   "source": [
    "#取某一个值，三行四列\n",
    "a = t1[2,3]\n",
    "print(a)\n",
    "print(type(a))"
   ]
  },
  {
   "cell_type": "code",
   "execution_count": 70,
   "metadata": {
    "scrolled": false
   },
   "outputs": [
    {
     "name": "stdout",
     "output_type": "stream",
     "text": [
      "[[576597  39774 170708]\n",
      " [ 24975   4542  12829]\n",
      " [ 96666    568   6666]]\n"
     ]
    }
   ],
   "source": [
    "#取多行多列，取第三行到第五行，第二列到第四列的结果,最后一行取不到，所以再加一\n",
    "b = t1[2:5,1:4]\n",
    "print(b)"
   ]
  },
  {
   "cell_type": "code",
   "execution_count": 71,
   "metadata": {
    "scrolled": true
   },
   "outputs": [
    {
     "name": "stdout",
     "output_type": "stream",
     "text": [
      "[4394029  576597]\n"
     ]
    }
   ],
   "source": [
    "#取多个不相邻的点的数,00点和21点\n",
    "c = t1[[0,2],[0,1]]\n",
    "print(c)"
   ]
  },
  {
   "cell_type": "code",
   "execution_count": 72,
   "metadata": {},
   "outputs": [],
   "source": [
    "#取行和取列是在方括号的，前后控制，通过："
   ]
  },
  {
   "cell_type": "code",
   "execution_count": 73,
   "metadata": {
    "scrolled": true
   },
   "outputs": [
    {
     "data": {
      "text/plain": [
       "array([[4394029,  320053,    5931,   46245],\n",
       "       [7860119,  185853,   26679,       0],\n",
       "       [5845909,  576597,   39774,  170708],\n",
       "       ...,\n",
       "       [ 142463,    4231,     148,     279],\n",
       "       [2162240,   41032,    1384,    4737],\n",
       "       [ 515000,   34727,     195,    4722]])"
      ]
     },
     "execution_count": 73,
     "metadata": {},
     "output_type": "execute_result"
    }
   ],
   "source": [
    "t1"
   ]
  },
  {
   "cell_type": "code",
   "execution_count": 74,
   "metadata": {
    "scrolled": true
   },
   "outputs": [
    {
     "data": {
      "text/plain": [
       "array([[False, False, False, False],\n",
       "       [False, False, False,  True],\n",
       "       [False, False, False, False],\n",
       "       ...,\n",
       "       [False, False, False, False],\n",
       "       [False, False, False, False],\n",
       "       [False, False, False, False]])"
      ]
     },
     "execution_count": 74,
     "metadata": {},
     "output_type": "execute_result"
    }
   ],
   "source": [
    "t1<10#变成布尔型"
   ]
  },
  {
   "cell_type": "code",
   "execution_count": 75,
   "metadata": {},
   "outputs": [],
   "source": [
    "#对矩阵中小于10的元素的数字变成3,布尔索引\n",
    "t1[t1<10] = 3"
   ]
  },
  {
   "cell_type": "code",
   "execution_count": 76,
   "metadata": {
    "scrolled": false
   },
   "outputs": [
    {
     "data": {
      "text/plain": [
       "array([[10, 10, 10, 10],\n",
       "       [10, 10, 10,  0],\n",
       "       [10, 10, 10, 10],\n",
       "       ...,\n",
       "       [10, 10, 10, 10],\n",
       "       [10, 10, 10, 10],\n",
       "       [10, 10, 10, 10]])"
      ]
     },
     "execution_count": 76,
     "metadata": {},
     "output_type": "execute_result"
    }
   ],
   "source": [
    "np.where(t1<10,0,10)#where三元操作符，小于十的替换为0，大于十的替换为10"
   ]
  },
  {
   "cell_type": "code",
   "execution_count": 77,
   "metadata": {
    "scrolled": true
   },
   "outputs": [
    {
     "data": {
      "text/plain": [
       "array([[18, 18, 18, 18],\n",
       "       [18, 18, 18, 10],\n",
       "       [18, 18, 18, 18],\n",
       "       ...,\n",
       "       [18, 18, 18, 18],\n",
       "       [18, 18, 18, 18],\n",
       "       [18, 18, 18, 18]])"
      ]
     },
     "execution_count": 77,
     "metadata": {},
     "output_type": "execute_result"
    }
   ],
   "source": [
    "#clip裁剪操作，小于十的替换为10，大于18的替换为18,\n",
    "t1.clip(10,18)"
   ]
  },
  {
   "cell_type": "code",
   "execution_count": 78,
   "metadata": {},
   "outputs": [],
   "source": [
    "#nan 转化成浮点类型"
   ]
  },
  {
   "cell_type": "code",
   "execution_count": 79,
   "metadata": {},
   "outputs": [
    {
     "data": {
      "text/plain": [
       "array([[ 0,  1,  2,  3,  4,  5, 12, 13, 14, 15, 16, 17],\n",
       "       [ 6,  7,  8,  9, 10, 11, 18, 19, 20, 21, 22, 23]])"
      ]
     },
     "execution_count": 79,
     "metadata": {},
     "output_type": "execute_result"
    }
   ],
   "source": [
    "#数组的拼接\n",
    "t1 = np.array([[0,1,2,3,4,5],\n",
    "           [6,7,8,9,10,11]])\n",
    "t2 = np.array([[12,13,14,15,16,17],\n",
    "               [18,19,20,21,22,23]])\n",
    "np.vstack((t1,t2))#竖直拼接\n",
    "np.hstack((t1,t2))#水平拼接"
   ]
  },
  {
   "cell_type": "code",
   "execution_count": 80,
   "metadata": {
    "scrolled": true
   },
   "outputs": [
    {
     "name": "stdout",
     "output_type": "stream",
     "text": [
      "[[ 6  8  7  9 10 11]\n",
      " [ 0  2  1  3  4  5]]\n"
     ]
    }
   ],
   "source": [
    "#数组的行列交换\n",
    "t1[[0,1],:] = t1[[1,0],:]\n",
    "t1[:,[1,2]] = t1[:,[2,1]]\n",
    "print(t1)"
   ]
  },
  {
   "cell_type": "code",
   "execution_count": 81,
   "metadata": {
    "scrolled": true
   },
   "outputs": [
    {
     "data": {
      "text/plain": [
       "array([[1., 0., 0.],\n",
       "       [0., 1., 0.],\n",
       "       [0., 0., 1.]])"
      ]
     },
     "execution_count": 81,
     "metadata": {},
     "output_type": "execute_result"
    }
   ],
   "source": [
    "#同时保留两个国家的信息\n",
    "#全为0的数组，全为1的数组\n",
    "np.ones((2,3))\n",
    "np.zeros((2,3))\n",
    "np.eye(3)#创建单位方阵"
   ]
  },
  {
   "cell_type": "code",
   "execution_count": 82,
   "metadata": {},
   "outputs": [
    {
     "data": {
      "text/plain": [
       "array([0, 1, 2], dtype=int64)"
      ]
     },
     "execution_count": 82,
     "metadata": {},
     "output_type": "execute_result"
    }
   ],
   "source": [
    "#argmax的解释\n",
    "t=np.eye(3)\n",
    "np.argmax(t,axis=0)\n",
    "#进行行与行之间的比较，是每列的最大值的位置，axis=1是行的最大值位置"
   ]
  },
  {
   "cell_type": "code",
   "execution_count": 83,
   "metadata": {},
   "outputs": [],
   "source": [
    "#numpy生成随机数\n",
    "np.random.rand\n",
    "np.random.randn#正态分布\n",
    "np.random.randint(0,20,(3,4))\n",
    "np.random.seed(4)#随机种子"
   ]
  },
  {
   "cell_type": "code",
   "execution_count": 84,
   "metadata": {},
   "outputs": [],
   "source": [
    "#深浅复制\n",
    "#切片的操作是相互影响的，a的数据完全由b保管"
   ]
  },
  {
   "cell_type": "code",
   "execution_count": 85,
   "metadata": {},
   "outputs": [
    {
     "data": {
      "text/plain": [
       "'numpy中的nan和inf,nan:not a number\\n   出现计算不当时候nan出现，float类型\\n   inf表示正无穷，-inf表示负无穷也是float'"
      ]
     },
     "execution_count": 85,
     "metadata": {},
     "output_type": "execute_result"
    }
   ],
   "source": [
    "'''numpy中的nan和inf,nan:not a number\n",
    "   出现计算不当时候nan出现，float类型\n",
    "   inf表示正无穷，-inf表示负无穷也是float'''"
   ]
  },
  {
   "cell_type": "code",
   "execution_count": 8,
   "metadata": {
    "scrolled": true
   },
   "outputs": [
    {
     "data": {
      "text/plain": [
       "array([15., 16., 17., 18., 19., 20.])"
      ]
     },
     "execution_count": 8,
     "metadata": {},
     "output_type": "execute_result"
    }
   ],
   "source": [
    "#如何处理nan，替换成均值，或者中值\n",
    "t2 = np.array([[12,13,14,15,16,17],\n",
    "               [18,19,20,21,22,23]])\n",
    "t2.sum(axis=0)#数组函数\n",
    "t2.mean(axis=0)#列间均值\n",
    "np.median(t2,axis=0)#求列间的中值"
   ]
  },
  {
   "cell_type": "code",
   "execution_count": 5,
   "metadata": {
    "scrolled": true
   },
   "outputs": [
    {
     "name": "stdout",
     "output_type": "stream",
     "text": [
      "[[ 0.  1.  2.  3.]\n",
      " [ 4.  5. nan nan]\n",
      " [ 8.  9. 10. 11.]]\n"
     ]
    }
   ],
   "source": [
    "t1 = np.arange(12).reshape(3,4).astype(\"float\")\n",
    "t1[1,2:] = np.nan\n",
    "print(t1)\n"
   ]
  },
  {
   "cell_type": "code",
   "execution_count": 12,
   "metadata": {
    "scrolled": true
   },
   "outputs": [
    {
     "name": "stdout",
     "output_type": "stream",
     "text": [
      "[[4394029  320053    5931   46245       0]\n",
      " [7860119  185853   26679       0       0]\n",
      " [5845909  576597   39774  170708       0]\n",
      " ...\n",
      " [ 109222    4840      35     212       1]\n",
      " [ 626223   22962     532    1559       1]\n",
      " [  99228    1699      23     135       1]]\n"
     ]
    }
   ],
   "source": [
    "us_data = \"./US_video_data_numbers.csv\"\n",
    "uk_data = \"./GB_video_data_numbers.csv\"\n",
    "us_data = np.loadtxt(us_data,delimiter=\",\",dtype=int)\n",
    "uk_data = np.loadtxt(uk_data,delimiter=\",\",dtype=int)\n",
    "zeros_data = np.zeros((us_data.shape[0],1)).astype(int)\n",
    "ones_data = np.ones((uk_data.shape[0],1)).astype(int)\n",
    "us_data = np.hstack((us_data,zeros_data))\n",
    "uk_data = np.hstack((uk_data,ones_data))\n",
    "final_data = np.vstack((us_data,uk_data))\n",
    "print(final_data)"
   ]
  }
 ],
 "metadata": {
  "kernelspec": {
   "display_name": "Python 3",
   "language": "python",
   "name": "python3"
  },
  "language_info": {
   "codemirror_mode": {
    "name": "ipython",
    "version": 3
   },
   "file_extension": ".py",
   "mimetype": "text/x-python",
   "name": "python",
   "nbconvert_exporter": "python",
   "pygments_lexer": "ipython3",
   "version": "3.7.4"
  }
 },
 "nbformat": 4,
 "nbformat_minor": 2
}
